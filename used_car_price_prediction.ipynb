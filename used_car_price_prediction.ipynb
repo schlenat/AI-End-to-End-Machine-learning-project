{
 "cells": [
  {
   "cell_type": "code",
   "execution_count": 9,
   "id": "9bed1e94",
   "metadata": {},
   "outputs": [],
   "source": [
    "import pandas as pd\n",
    "import numpy as np\n",
    "import pickle\n",
    "from sklearn.model_selection import train_test_split\n",
    "from sklearn.ensemble import RandomForestRegressor\n",
    "from sklearn.linear_model import LinearRegression\n",
    "from sklearn.metrics import mean_squared_error, r2_score\n"
   ]
  },
  {
   "cell_type": "markdown",
   "id": "71038435",
   "metadata": {},
   "source": [
    "## Daten definieren und vorbereiten"
   ]
  },
  {
   "cell_type": "code",
   "execution_count": 10,
   "id": "2e4b727f",
   "metadata": {},
   "outputs": [],
   "source": [
    "# 1. Daten laden\n",
    "df_cars = pd.read_csv(\"used_cars_with_country.csv\")\n",
    "df_country = pd.read_csv(\"country_data.csv\")\n",
    "\n",
    "# Preis-Spalte bereinigen ('10,300' -> 10300.0)\n",
    "df_cars[\"price\"] = df_cars[\"price\"].astype(str).str.replace(r\"[^\\d.]\", \"\", regex=True).astype(float)\n",
    "\n",
    "# Milage-Spalte bereinigen ('73,049 mi.' -> 73049.0)\n",
    "df_cars[\"milage\"] = df_cars[\"milage\"].astype(str).str.replace(r\"[^\\d.]\", \"\", regex=True).astype(float)\n",
    "\n",
    "# Engine-, Farbangaben und textuelle Spalten entfernen, die nicht numerisch oder dummyfähig sind\n",
    "drop_cols = [\"engine\", \"ext_col\", \"int_col\", \"accident\", \"clean_title\"]\n",
    "for col in drop_cols:\n",
    "    if col in df_cars.columns:\n",
    "        df_cars.drop(columns=[col], inplace=True)\n",
    "\n",
    "# 2. Daten mergen\n",
    "merged_df = pd.merge(df_cars, df_country, on=\"country\", how=\"left\")\n",
    "\n",
    "# Konvertiere numerische Spalten\n",
    "for col in [\"price\", \"income\", \"gdpp\"]:\n",
    "    merged_df[col] = pd.to_numeric(merged_df[col], errors=\"coerce\")\n",
    "\n",
    "# 3. Feature Engineering\n",
    "merged_df[\"relative_price\"] = merged_df[\"price\"] / merged_df[\"income\"]\n",
    "merged_df[\"price_vs_gdpp\"] = merged_df[\"price\"] / merged_df[\"gdpp\"]\n",
    "\n",
    "# Modellnamen als Kategorie encodieren\n",
    "if \"model\" in merged_df.columns:\n",
    "    merged_df[\"model\"] = merged_df[\"model\"].astype(str)\n",
    "    merged_df = pd.get_dummies(merged_df, columns=[\"model\"], drop_first=True)\n",
    "\n",
    "# 4. Preprocessing: Kategorische Variablen encodieren\n",
    "merged_df = pd.get_dummies(merged_df, columns=[\"brand\", \"fuel_type\", \"transmission\", \"country\"], drop_first=True)"
   ]
  },
  {
   "cell_type": "markdown",
   "id": "648ba06f",
   "metadata": {},
   "source": [
    "## Features und Zielvariable definieren"
   ]
  },
  {
   "cell_type": "code",
   "execution_count": 11,
   "id": "9684035a",
   "metadata": {},
   "outputs": [],
   "source": [
    "y = merged_df[\"price\"]\n",
    "X = merged_df.drop(columns=[\"price\", \"relative_price\"])\n",
    "X = X.select_dtypes(include=[np.number])\n"
   ]
  },
  {
   "cell_type": "markdown",
   "id": "8fdf5021",
   "metadata": {},
   "source": [
    "## Train/Test split"
   ]
  },
  {
   "cell_type": "code",
   "execution_count": 12,
   "id": "7c7d797c",
   "metadata": {},
   "outputs": [],
   "source": [
    "X_train, X_test, y_train, y_test = train_test_split(X, y, test_size=0.2, random_state=42)"
   ]
  },
  {
   "cell_type": "code",
   "execution_count": 13,
   "id": "0e37faaa",
   "metadata": {},
   "outputs": [],
   "source": [
    "merged_df = merged_df[(merged_df[\"price\"] > 500) & (merged_df[\"price\"] < 100000)]\n"
   ]
  },
  {
   "cell_type": "markdown",
   "id": "17e01d24",
   "metadata": {},
   "source": [
    "## Model trainieren"
   ]
  },
  {
   "cell_type": "code",
   "execution_count": 14,
   "id": "7df56cff",
   "metadata": {},
   "outputs": [],
   "source": [
    "from sklearn.impute import SimpleImputer\n",
    "\n",
    "# Impute missing values in features\n",
    "imputer = SimpleImputer(strategy=\"mean\")\n",
    "X_train_imputed = imputer.fit_transform(X_train)\n",
    "X_test_imputed = imputer.transform(X_test)\n",
    "\n",
    "# Linear Regression\n",
    "model_lr = LinearRegression()\n",
    "model_lr.fit(X_train_imputed, y_train)\n",
    "pred_lr = model_lr.predict(X_test_imputed)\n",
    "\n",
    "# Random Forest\n",
    "model_rf = RandomForestRegressor(random_state=42)\n",
    "model_rf.fit(X_train_imputed, y_train)\n",
    "pred_rf = model_rf.predict(X_test_imputed)\n"
   ]
  },
  {
   "cell_type": "code",
   "execution_count": 15,
   "id": "dac96070",
   "metadata": {},
   "outputs": [
    {
     "data": {
      "image/png": "[encoded data removed]",
      "text/plain": [
       "<Figure size 640x480 with 1 Axes>"
      ]
     },
     "metadata": {},
     "output_type": "display_data"
    }
   ],
   "source": [
    "import matplotlib.pyplot as plt\n",
    "import seaborn as sns\n",
    "\n",
    "feat_importances = pd.Series(model_rf.feature_importances_, index=X.columns)\n",
    "feat_importances.nlargest(10).plot(kind='barh')\n",
    "plt.title(\"Top 10 Feature Importances (Random Forest)\")\n",
    "plt.show()"
   ]
  },
  {
   "cell_type": "markdown",
   "id": "f4981838",
   "metadata": {},
   "source": [
    "## Modelle evaluieren"
   ]
  },
  {
   "cell_type": "code",
   "execution_count": 16,
   "id": "040644d1",
   "metadata": {},
   "outputs": [
    {
     "name": "stdout",
     "output_type": "stream",
     "text": [
      "Linear Regression -> RMSE: 28375.74, R^2: 0.96\n",
      "Random Forest -> RMSE: 99481.67, R^2: 0.52\n",
      "Modell gespeichert unter model.pkl\n"
     ]
    }
   ],
   "source": [
    "def evaluate(name, y_true, y_pred):\n",
    "    rmse = np.sqrt(mean_squared_error(y_true, y_pred))\n",
    "    r2 = r2_score(y_true, y_pred)\n",
    "    print(f\"{name} -> RMSE: {rmse:.2f}, R^2: {r2:.2f}\")\n",
    "\n",
    "evaluate(\"Linear Regression\", y_test, pred_lr)\n",
    "evaluate(\"Random Forest\", y_test, pred_rf)\n",
    "\n",
    "# 9. Bestes Modell speichern (z. B. Random Forest)\n",
    "with open(\"model.pkl\", \"wb\") as f:\n",
    "    pickle.dump((model_rf, X.columns), f)\n",
    "\n",
    "print(\"Modell gespeichert unter model.pkl\")"
   ]
  }
 ],
 "metadata": {
  "kernelspec": {
   "display_name": "Python 3",
   "language": "python",
   "name": "python3"
  },
  "language_info": {
   "codemirror_mode": {
    "name": "ipython",
    "version": 3
   },
   "file_extension": ".py",
   "mimetype": "text/x-python",
   "name": "python",
   "nbconvert_exporter": "python",
   "pygments_lexer": "ipython3",
   "version": "3.12.1"
  }
 },
 "nbformat": 4,
 "nbformat_minor": 5
}
